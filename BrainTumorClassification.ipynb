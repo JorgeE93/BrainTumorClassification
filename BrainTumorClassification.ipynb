{
 "cells": [
  {
   "cell_type": "code",
   "execution_count": null,
   "metadata": {
    "collapsed": true,
    "pycharm": {
     "is_executing": true
    }
   },
   "outputs": [],
   "source": [
    "import tensorflow as tf\n",
    "from keras.preprocessing.image import ImageDataGenerator\n",
    "import pandas as pd\n",
    "import numpy as np"
   ]
  },
  {
   "cell_type": "code",
   "execution_count": null,
   "outputs": [],
   "source": [
    "train_datasets = \"../archive/Training\"\n",
    "test_datasets = \"../archive/Testing\""
   ],
   "metadata": {
    "collapsed": false,
    "pycharm": {
     "is_executing": true
    }
   }
  },
  {
   "cell_type": "code",
   "execution_count": null,
   "outputs": [],
   "source": [
    "def prepare_datasets(train_datasets, test_datasets, batch_size, image_size):\n",
    "\n",
    "    train_datasets_generator = ImageDataGenerator(  rescale=1.0/255,\n",
    "                                                    shear_range= 0.2,\n",
    "                                                    zoom_range= 0.2,\n",
    "                                                    horizontal_flip= True,\n",
    "                                                    vertical_flip=True,\n",
    "                                                    width_shift_range=0.3,\n",
    "                                                    fill_mode='nearest')\n",
    "\n",
    "    test_datasets_generator = ImageDataGenerator( rescale=1.0/255)\n",
    "\n",
    "    train_datasets_generator_data = train_datasets_generator.flow_from_directory(\n",
    "        batch_size=batch_size,\n",
    "        directory=train_datasets,\n",
    "        shuffle=True,\n",
    "        target_size= (image_size,image_size),\n",
    "        class_mode= 'categorical'\n",
    "    )\n",
    "\n",
    "    test_datasets_generator_data = test_datasets_generator.flow_from_directory(\n",
    "        batch_size=batch_size,\n",
    "        directory=test_datasets,\n",
    "        shuffle=True,\n",
    "        target_size= (image_size,image_size),\n",
    "        class_mode= 'categorical'\n",
    "    )\n",
    "\n",
    "    return train_datasets_generator_data, test_datasets_generator_data"
   ],
   "metadata": {
    "collapsed": false,
    "pycharm": {
     "is_executing": true
    }
   }
  },
  {
   "cell_type": "code",
   "execution_count": null,
   "outputs": [],
   "source": [
    "train_data, test_data = prepare_datasets(train_datasets,test_datasets, 16, 224)"
   ],
   "metadata": {
    "collapsed": false,
    "pycharm": {
     "is_executing": true
    }
   }
  }
 ],
 "metadata": {
  "kernelspec": {
   "display_name": "Python 3",
   "language": "python",
   "name": "python3"
  },
  "language_info": {
   "codemirror_mode": {
    "name": "ipython",
    "version": 2
   },
   "file_extension": ".py",
   "mimetype": "text/x-python",
   "name": "python",
   "nbconvert_exporter": "python",
   "pygments_lexer": "ipython2",
   "version": "2.7.6"
  }
 },
 "nbformat": 4,
 "nbformat_minor": 0
}
