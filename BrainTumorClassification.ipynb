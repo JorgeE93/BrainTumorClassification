{
 "cells": [
  {
   "cell_type": "code",
   "execution_count": null,
   "metadata": {
    "collapsed": true,
    "pycharm": {
     "is_executing": true
    }
   },
   "outputs": [
    {
     "name": "stdout",
     "output_type": "stream",
     "text": [
      "Requirement already satisfied: tensorflow==2.12.0 in /Users/frosty/opt/anaconda3/lib/python3.9/site-packages (2.12.0)\r\n",
      "Requirement already satisfied: libclang>=13.0.0 in /Users/frosty/opt/anaconda3/lib/python3.9/site-packages (from tensorflow==2.12.0) (16.0.6)\r\n",
      "Requirement already satisfied: tensorflow-io-gcs-filesystem>=0.23.1 in /Users/frosty/opt/anaconda3/lib/python3.9/site-packages (from tensorflow==2.12.0) (0.34.0)\r\n",
      "Requirement already satisfied: keras<2.13,>=2.12.0 in /Users/frosty/opt/anaconda3/lib/python3.9/site-packages (from tensorflow==2.12.0) (2.12.0)\r\n",
      "Requirement already satisfied: jax>=0.3.15 in /Users/frosty/opt/anaconda3/lib/python3.9/site-packages (from tensorflow==2.12.0) (0.4.20)\r\n",
      "Requirement already satisfied: h5py>=2.9.0 in /Users/frosty/opt/anaconda3/lib/python3.9/site-packages (from tensorflow==2.12.0) (3.7.0)\r\n",
      "Requirement already satisfied: absl-py>=1.0.0 in /Users/frosty/opt/anaconda3/lib/python3.9/site-packages (from tensorflow==2.12.0) (2.0.0)\r\n",
      "Requirement already satisfied: opt-einsum>=2.3.2 in /Users/frosty/opt/anaconda3/lib/python3.9/site-packages (from tensorflow==2.12.0) (3.3.0)\r\n",
      "Requirement already satisfied: protobuf!=4.21.0,!=4.21.1,!=4.21.2,!=4.21.3,!=4.21.4,!=4.21.5,<5.0.0dev,>=3.20.3 in /Users/frosty/opt/anaconda3/lib/python3.9/site-packages (from tensorflow==2.12.0) (4.23.4)\r\n",
      "Requirement already satisfied: termcolor>=1.1.0 in /Users/frosty/opt/anaconda3/lib/python3.9/site-packages (from tensorflow==2.12.0) (2.3.0)\r\n",
      "Requirement already satisfied: packaging in /Users/frosty/opt/anaconda3/lib/python3.9/site-packages (from tensorflow==2.12.0) (23.1)\r\n",
      "Requirement already satisfied: six>=1.12.0 in /Users/frosty/opt/anaconda3/lib/python3.9/site-packages (from tensorflow==2.12.0) (1.16.0)\r\n",
      "Requirement already satisfied: grpcio<2.0,>=1.24.3 in /Users/frosty/opt/anaconda3/lib/python3.9/site-packages (from tensorflow==2.12.0) (1.59.3)\r\n",
      "Requirement already satisfied: typing-extensions>=3.6.6 in /Users/frosty/opt/anaconda3/lib/python3.9/site-packages (from tensorflow==2.12.0) (4.7.1)\r\n",
      "Requirement already satisfied: setuptools in /Users/frosty/opt/anaconda3/lib/python3.9/site-packages (from tensorflow==2.12.0) (63.4.1)\r\n",
      "Requirement already satisfied: gast<=0.4.0,>=0.2.1 in /Users/frosty/opt/anaconda3/lib/python3.9/site-packages (from tensorflow==2.12.0) (0.4.0)\r\n",
      "Requirement already satisfied: wrapt<1.15,>=1.11.0 in /Users/frosty/opt/anaconda3/lib/python3.9/site-packages (from tensorflow==2.12.0) (1.14.1)\r\n",
      "Requirement already satisfied: astunparse>=1.6.0 in /Users/frosty/opt/anaconda3/lib/python3.9/site-packages (from tensorflow==2.12.0) (1.6.3)\r\n",
      "Requirement already satisfied: flatbuffers>=2.0 in /Users/frosty/opt/anaconda3/lib/python3.9/site-packages (from tensorflow==2.12.0) (23.5.26)\r\n",
      "Requirement already satisfied: tensorflow-estimator<2.13,>=2.12.0 in /Users/frosty/opt/anaconda3/lib/python3.9/site-packages (from tensorflow==2.12.0) (2.12.0)\r\n",
      "Requirement already satisfied: google-pasta>=0.1.1 in /Users/frosty/opt/anaconda3/lib/python3.9/site-packages (from tensorflow==2.12.0) (0.2.0)\r\n",
      "Requirement already satisfied: numpy<1.24,>=1.22 in /Users/frosty/opt/anaconda3/lib/python3.9/site-packages (from tensorflow==2.12.0) (1.23.5)\r\n",
      "Requirement already satisfied: tensorboard<2.13,>=2.12 in /Users/frosty/opt/anaconda3/lib/python3.9/site-packages (from tensorflow==2.12.0) (2.12.3)\r\n",
      "Requirement already satisfied: wheel<1.0,>=0.23.0 in /Users/frosty/opt/anaconda3/lib/python3.9/site-packages (from astunparse>=1.6.0->tensorflow==2.12.0) (0.37.1)\r\n",
      "Requirement already satisfied: ml-dtypes>=0.2.0 in /Users/frosty/opt/anaconda3/lib/python3.9/site-packages (from jax>=0.3.15->tensorflow==2.12.0) (0.2.0)\r\n",
      "Requirement already satisfied: importlib-metadata>=4.6 in /Users/frosty/opt/anaconda3/lib/python3.9/site-packages (from jax>=0.3.15->tensorflow==2.12.0) (6.7.0)\r\n",
      "Requirement already satisfied: scipy>=1.9 in /Users/frosty/opt/anaconda3/lib/python3.9/site-packages (from jax>=0.3.15->tensorflow==2.12.0) (1.9.1)\r\n",
      "Requirement already satisfied: google-auth-oauthlib<1.1,>=0.5 in /Users/frosty/opt/anaconda3/lib/python3.9/site-packages (from tensorboard<2.13,>=2.12->tensorflow==2.12.0) (1.0.0)\r\n",
      "Requirement already satisfied: werkzeug>=1.0.1 in /Users/frosty/opt/anaconda3/lib/python3.9/site-packages (from tensorboard<2.13,>=2.12->tensorflow==2.12.0) (2.2.3)\r\n",
      "Requirement already satisfied: tensorboard-data-server<0.8.0,>=0.7.0 in /Users/frosty/opt/anaconda3/lib/python3.9/site-packages (from tensorboard<2.13,>=2.12->tensorflow==2.12.0) (0.7.2)\r\n",
      "Requirement already satisfied: markdown>=2.6.8 in /Users/frosty/opt/anaconda3/lib/python3.9/site-packages (from tensorboard<2.13,>=2.12->tensorflow==2.12.0) (3.4.4)\r\n",
      "Requirement already satisfied: google-auth<3,>=1.6.3 in /Users/frosty/opt/anaconda3/lib/python3.9/site-packages (from tensorboard<2.13,>=2.12->tensorflow==2.12.0) (2.23.4)\r\n",
      "Requirement already satisfied: requests<3,>=2.21.0 in /Users/frosty/opt/anaconda3/lib/python3.9/site-packages (from tensorboard<2.13,>=2.12->tensorflow==2.12.0) (2.31.0)\r\n",
      "Requirement already satisfied: pyasn1-modules>=0.2.1 in /Users/frosty/opt/anaconda3/lib/python3.9/site-packages (from google-auth<3,>=1.6.3->tensorboard<2.13,>=2.12->tensorflow==2.12.0) (0.2.8)\r\n",
      "Requirement already satisfied: rsa<5,>=3.1.4 in /Users/frosty/opt/anaconda3/lib/python3.9/site-packages (from google-auth<3,>=1.6.3->tensorboard<2.13,>=2.12->tensorflow==2.12.0) (4.9)\r\n",
      "Requirement already satisfied: cachetools<6.0,>=2.0.0 in /Users/frosty/opt/anaconda3/lib/python3.9/site-packages (from google-auth<3,>=1.6.3->tensorboard<2.13,>=2.12->tensorflow==2.12.0) (5.3.2)\r\n",
      "Requirement already satisfied: requests-oauthlib>=0.7.0 in /Users/frosty/opt/anaconda3/lib/python3.9/site-packages (from google-auth-oauthlib<1.1,>=0.5->tensorboard<2.13,>=2.12->tensorflow==2.12.0) (1.3.1)\r\n",
      "Requirement already satisfied: zipp>=0.5 in /Users/frosty/opt/anaconda3/lib/python3.9/site-packages (from importlib-metadata>=4.6->jax>=0.3.15->tensorflow==2.12.0) (3.15.0)\r\n",
      "Requirement already satisfied: charset-normalizer<4,>=2 in /Users/frosty/opt/anaconda3/lib/python3.9/site-packages (from requests<3,>=2.21.0->tensorboard<2.13,>=2.12->tensorflow==2.12.0) (3.2.0)\r\n",
      "Requirement already satisfied: idna<4,>=2.5 in /Users/frosty/opt/anaconda3/lib/python3.9/site-packages (from requests<3,>=2.21.0->tensorboard<2.13,>=2.12->tensorflow==2.12.0) (3.4)\r\n",
      "Requirement already satisfied: urllib3<3,>=1.21.1 in /Users/frosty/opt/anaconda3/lib/python3.9/site-packages (from requests<3,>=2.21.0->tensorboard<2.13,>=2.12->tensorflow==2.12.0) (1.26.16)\r\n",
      "Requirement already satisfied: certifi>=2017.4.17 in /Users/frosty/opt/anaconda3/lib/python3.9/site-packages (from requests<3,>=2.21.0->tensorboard<2.13,>=2.12->tensorflow==2.12.0) (2023.7.22)\r\n",
      "Requirement already satisfied: MarkupSafe>=2.1.1 in /Users/frosty/opt/anaconda3/lib/python3.9/site-packages (from werkzeug>=1.0.1->tensorboard<2.13,>=2.12->tensorflow==2.12.0) (2.1.3)\r\n",
      "Requirement already satisfied: pyasn1<0.5.0,>=0.4.6 in /Users/frosty/opt/anaconda3/lib/python3.9/site-packages (from pyasn1-modules>=0.2.1->google-auth<3,>=1.6.3->tensorboard<2.13,>=2.12->tensorflow==2.12.0) (0.4.8)\r\n",
      "Requirement already satisfied: oauthlib>=3.0.0 in /Users/frosty/opt/anaconda3/lib/python3.9/site-packages (from requests-oauthlib>=0.7.0->google-auth-oauthlib<1.1,>=0.5->tensorboard<2.13,>=2.12->tensorflow==2.12.0) (3.2.2)\r\n",
      "Requirement already satisfied: pandas in /Users/frosty/opt/anaconda3/lib/python3.9/site-packages (1.4.4)\r\n",
      "Requirement already satisfied: python-dateutil>=2.8.1 in /Users/frosty/opt/anaconda3/lib/python3.9/site-packages (from pandas) (2.8.2)\r\n",
      "Requirement already satisfied: pytz>=2020.1 in /Users/frosty/opt/anaconda3/lib/python3.9/site-packages (from pandas) (2023.3)\r\n",
      "Requirement already satisfied: numpy>=1.18.5 in /Users/frosty/opt/anaconda3/lib/python3.9/site-packages (from pandas) (1.23.5)\r\n",
      "Requirement already satisfied: six>=1.5 in /Users/frosty/opt/anaconda3/lib/python3.9/site-packages (from python-dateutil>=2.8.1->pandas) (1.16.0)\r\n",
      "Requirement already satisfied: numpy in /Users/frosty/opt/anaconda3/lib/python3.9/site-packages (1.23.5)\r\n"
     ]
    }
   ],
   "source": [
    "!pip install tensorflow==2.12.0\n",
    "!pip install pandas\n",
    "!pip install numpy\n",
    "\n",
    "import os\n",
    "import torch\n",
    "import torchvision\n",
    "from torch import nn\n",
    "import pandas as pd\n",
    "import numpy as np\n",
    "import matplotlib.pyplot as plt\n",
    "\n",
    "import warnings\n",
    "warnings.filterwarnings(\"ignore\")"
   ]
  },
  {
   "cell_type": "code",
   "execution_count": null,
   "outputs": [],
   "source": [
    "train_datasets = \"archive/Training\"\n",
    "test_datasets = \"archive/Testing\""
   ],
   "metadata": {
    "collapsed": false,
    "pycharm": {
     "is_executing": true
    }
   }
  },
  {
   "cell_type": "markdown",
   "source": [
    "----"
   ],
   "metadata": {
    "collapsed": false
   }
  },
  {
   "cell_type": "code",
   "execution_count": null,
   "outputs": [],
   "source": [
    "# PyTorch transform image set up\n",
    "\n",
    "transform_train = torchvision.transforms.Compose([\n",
    "    # Resize all images to 224 x 224 pixel image\n",
    "    torchvision.transforms.Resize(230,230),\n",
    "\n",
    "    # Give the image a random crop\n",
    "    torchvision.transforms.RandomRotation(10),\n",
    "    torchvision.transforms.RandomResizedCrop(size=(224,224), scale=(0.8,1.0), ratio=(1.0,1.0)),\n",
    "    torchvision.transforms.RandomHorizontalFlip(),\n",
    "    torchvision.transforms.RandomVerticalFlip(),\n",
    "    torchvision.transforms.ToTensor(),\n",
    "    torchvision.transforms.Normalize(mean=[0.4914, 0.4822, 0.4465],std=[0.2023, 0.1994, 0.2010])\n",
    "])\n",
    "\n",
    "\n",
    "transform_test = torchvision.transforms.Compose([\n",
    "    torchvision.transforms.ToTensor(),\n",
    "    torchvision.transforms.Normalize(mean=[0.4914, 0.4822, 0.4465],std=[0.2023, 0.1994, 0.2010])\n",
    "])"
   ],
   "metadata": {
    "collapsed": false
   }
  },
  {
   "cell_type": "code",
   "execution_count": null,
   "outputs": [],
   "source": [
    "# Arrays to hold all images and labels\n",
    "\n",
    "train_data = []\n",
    "train_labels = []\n",
    "\n",
    "test_data = []\n",
    "test_labels = []"
   ],
   "metadata": {
    "collapsed": false
   }
  },
  {
   "cell_type": "code",
   "execution_count": null,
   "outputs": [],
   "source": [
    "# Import images\n",
    "train_data = [torch.utils.data.DataLoader()]"
   ],
   "metadata": {
    "collapsed": false
   }
  }
 ],
 "metadata": {
  "kernelspec": {
   "display_name": "Python 3",
   "language": "python",
   "name": "python3"
  },
  "language_info": {
   "codemirror_mode": {
    "name": "ipython",
    "version": 2
   },
   "file_extension": ".py",
   "mimetype": "text/x-python",
   "name": "python",
   "nbconvert_exporter": "python",
   "pygments_lexer": "ipython2",
   "version": "2.7.6"
  }
 },
 "nbformat": 4,
 "nbformat_minor": 0
}
